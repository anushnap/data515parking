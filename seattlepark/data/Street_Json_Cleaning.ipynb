{
 "cells": [
  {
   "cell_type": "code",
   "execution_count": 5,
   "metadata": {},
   "outputs": [],
   "source": [
    "import pandas as pd\n",
    "import numpy as np\n",
    "#import geopandas as gpd"
   ]
  },
  {
   "cell_type": "code",
   "execution_count": 25,
   "metadata": {},
   "outputs": [],
   "source": [
    "df = pd.read_csv('Annual_Parking_Study_Data_Cleaned2.csv',low_memory=False)"
   ]
  },
  {
   "cell_type": "code",
   "execution_count": 29,
   "metadata": {},
   "outputs": [],
   "source": [
    "ps_units = df['Unitdesc'].unique()\n",
    "ps_units.sort()"
   ]
  },
  {
   "cell_type": "code",
   "execution_count": 6,
   "metadata": {},
   "outputs": [],
   "source": [
    "with open('Seattle_Streets.geojson') as f:\n",
    "    lines = f.readlines()"
   ]
  },
  {
   "cell_type": "code",
   "execution_count": 7,
   "metadata": {},
   "outputs": [
    {
     "data": {
      "text/plain": [
       "23813"
      ]
     },
     "execution_count": 7,
     "metadata": {},
     "output_type": "execute_result"
    }
   ],
   "source": [
    "len(lines)"
   ]
  },
  {
   "cell_type": "code",
   "execution_count": 10,
   "metadata": {},
   "outputs": [
    {
     "name": "stdout",
     "output_type": "stream",
     "text": [
      "{ \"type\": \"Feature\", \"properties\": { \"OBJECTID\": 1, \"ARTCLASS\": 2, \"COMPKEY\": 1006, \"UNITID\": \"00010\", \"UNITID2\": \"0120\", \"UNITIDSORT\": \"000100120\", \"UNITDESC\": \"1ST AVE BETWEEN SENECA ST AND UNIVERSITY ST\", \"STNAME_ORD\": \"1ST AVE\", \"XSTRLO\": \"SENECA ST\", \"XSTRHI\": \"UNIVERSITY ST\", \"ARTDESCRIPT\": \"Minor Arterial\", \"OWNER\": \" \", \"STATUS\": \"INSVC\", \"BLOCKNBR\": 1200, \"SPEEDLIMIT\": 25, \"SEGDIR\": \"NW\", \"ONEWAY\": \"N\", \"ONEWAYDIR\": \" \", \"FLOW\": \" \", \"SEGLENGTH\": 306.0, \"SURFACEWIDTH\": 48, \"SURFACETYPE_1\": \"PCC\", \"SURFACETYPE_2\": \"AC/PCC\", \"INTRLO\": \"1ST AVE AND SENECA ST\", \"DIRLO\": \"NW\", \"INTKEYLO\": 29611, \"INTRHI\": \"1ST AVE AND UNIVERSITY ST\", \"DIRHI\": \"SE\", \"NATIONHWYSYS\": \"N\", \"STREETTYPE\": \"Downtown Neighborhood\", \"PVMTCONDINDX1\": 87, \"PVMTCONDINDX2\": 62, \"TRANCLASS\": 1, \"TRANDESCRIPT\": \"PRINCIPAL TRANSIT ROUTE\", \"SLOPE_PCT\": 4, \"PVMTCATEGORY\": \"ART\", \"PARKBOULEVARD\": \"N\", \"SHAPE_Length\": 305.96602766741597 }, \"geometry\": { \"type\": \"LineString\", \"coordinates\": [ [ -122.337544269918141, 47.606121758459935 ], [ -122.338197016107799, 47.606835003845767 ] ] } },\n",
      "\n"
     ]
    }
   ],
   "source": [
    "print(lines[5])"
   ]
  },
  {
   "cell_type": "code",
   "execution_count": 37,
   "metadata": {},
   "outputs": [
    {
     "name": "stdout",
     "output_type": "stream",
     "text": [
      "1313\n"
     ]
    }
   ],
   "source": [
    "k = 0\n",
    "udesc_in_study = []\n",
    "all_udesc = []\n",
    "#with open('Seattle_Streets_InParkingStudy.geojson', 'w') as out:\n",
    "for i in range(23813):\n",
    "    line = lines[i]\n",
    "    ud1 = line.find(\"UNITDESC\") + 12\n",
    "    ud2 = line.find(\"STNAME_ORD\") - 4\n",
    "    if ud1 == -1 or ud2 == -1:\n",
    "        continue\n",
    "    else:\n",
    "        udesc = line[ud1:ud2]\n",
    "        all_udesc.append(udesc)\n",
    "        if udesc in ps_units:\n",
    "            #out.write(line)\n",
    "            #print(udesc + \" is in the Parking Study\")\n",
    "            udesc_in_study.append(udesc)\n",
    "            k += 1\n",
    "print(k)"
   ]
  },
  {
   "cell_type": "code",
   "execution_count": 38,
   "metadata": {},
   "outputs": [],
   "source": [
    "missing_units = np.setdiff1d(ps_units,udesc_in_study)"
   ]
  },
  {
   "cell_type": "code",
   "execution_count": 86,
   "metadata": {},
   "outputs": [
    {
     "name": "stdout",
     "output_type": "stream",
     "text": [
      "['5TH AVE BETWEEN VINE ST AND DENNY WAY'\n",
      " '6TH AVE N BETWEEN HARRISON ST AND 6TH AVE N ON RP'\n",
      " '6TH AVE N BETWEEN HARRISON ST AND REPUBLICAN ST'\n",
      " '7TH AVE BETWEEN BATTERY ST AND AURORA NB AVE N'\n",
      " '8TH AVE N BETWEEN REPUBLICAN ST AND MERCER ST'\n",
      " '9TH AVE BETWEEN SPRUCE ST AND ALDER ST'\n",
      " '9TH AVE N BETWEEN BROAD E ST AND WESTLAKE AVE N'\n",
      " 'ALASKAN WAY BETWEEN UNION ST AND ALASKAN E RDWY WAY'\n",
      " 'BROAD ST BETWEEN DEXTER AVE N AND ROY W ST'\n",
      " 'DENNY WAY BETWEEN VIRGINIA ST AND PONTIUS AVE N'\n",
      " 'DEXTER AVE N BETWEEN ALOHA ST AND HIGHLAND DR'\n",
      " 'E DENNY WAY BETWEEN NAGLE PL AND 10TH AVE E'\n",
      " 'E ROY ST BETWEEN BROADWAY E E AND 10TH W AVE E'\n",
      " 'JOHN ST BETWEEN 6TH AVE N AND AURORA SB AVE N'\n",
      " 'JOHN ST BETWEEN AURORA NB AVE N AND DEXTER AVE N'\n",
      " 'JOHN ST BETWEEN MINOR AVE N AND PONTIUS W AVE N'\n",
      " 'JOHN ST BETWEEN PONTIUS W AVE N AND PONTIUS E AVE N'\n",
      " 'NAGLE PL BETWEEN E PINE ST AND E HOWELL ST'\n",
      " 'NE 43RD ST BETWEEN 12TH AVE NE AND BROOKLYN AVE NE'\n",
      " 'PONTIUS AVE N BETWEEN DENNY WAY AND JOHN W ST'\n",
      " 'REPUBLICAN ST BETWEEN AURORA AVE N AND DEXTER AVE N'\n",
      " 'SPRUCE ST BETWEEN 8TH AVE AND TERRY AVE'\n",
      " 'TAYLOR AVE N BETWEEN THOMAS ST AND BROAD ST'\n",
      " 'TERRY AVE BETWEEN SPRUCE ST AND ALDER ST'\n",
      " 'VALLEY ST BETWEEN BROAD ST AND TERRY AVE N'\n",
      " 'WESTLAKE AVE BETWEEN 8TH AVE AND BLANCHARD ST'\n",
      " 'WESTLAKE SHORE RDWY AVE N BETWEEN BLAINE ST AND HOWE ST'\n",
      " 'WESTLAKE SHORE RDWY AVE N BETWEEN CROCKETT ST AND DEAD END'\n",
      " 'WESTLAKE SHORE RDWY AVE N BETWEEN HOWE ST AND NEWTON ST'\n",
      " 'WESTLAKE SHORE RDWY AVE N BETWEEN NEWTON ST AND WESTLAKE EAST RDWY AVE N'\n",
      " 'WESTLAKE SHORE RDWY AVE N BETWEEN WESTLAKE SHORE RDWY 2 AVE N AND BLAINE ST']\n"
     ]
    }
   ],
   "source": [
    "# These streets mostly don't exist anymore due to construction and changes to the street grid, drop them from the database.\n",
    "print(missing_units)\n",
    "with open('Parking_Study_Streets_To_Remove.txt', 'w') as out:\n",
    "    for i in missing_units:\n",
    "        out.write(i+'\\n')\n"
   ]
  },
  {
   "cell_type": "code",
   "execution_count": 40,
   "metadata": {},
   "outputs": [
    {
     "data": {
      "text/plain": [
       "31"
      ]
     },
     "execution_count": 40,
     "metadata": {},
     "output_type": "execute_result"
    }
   ],
   "source": [
    "len(missing_units)"
   ]
  },
  {
   "cell_type": "code",
   "execution_count": 82,
   "metadata": {},
   "outputs": [
    {
     "name": "stdout",
     "output_type": "stream",
     "text": [
      "JOHN ST BETWEEN 7TH NB AVE N AND DEXTER AVE N\n",
      "JOHN ST BETWEEN DEXTER AVE N AND 8TH AVE N\n"
     ]
    }
   ],
   "source": [
    "matching = [s for s in all_udesc if (\"JOHN ST BETWEEN\" in s) and (\"DEXTER\" in s)]\n",
    "#print(len(matching))\n",
    "for i in matching: print(i)"
   ]
  },
  {
   "cell_type": "code",
   "execution_count": 52,
   "metadata": {},
   "outputs": [
    {
     "name": "stdout",
     "output_type": "stream",
     "text": [
      "5TH AVE BETWEEN VINE ST AND TAYLOR AVE\n",
      "5TH AVE BETWEEN WALL ST AND VINE ST\n",
      "VINE ST BETWEEN 4TH AVE AND 5TH AVE\n",
      "VINE ST BETWEEN 5TH AVE AND DENNY WAY\n"
     ]
    }
   ],
   "source": []
  },
  {
   "cell_type": "code",
   "execution_count": null,
   "metadata": {},
   "outputs": [],
   "source": []
  }
 ],
 "metadata": {
  "kernelspec": {
   "display_name": "Python 3",
   "language": "python",
   "name": "python3"
  },
  "language_info": {
   "codemirror_mode": {
    "name": "ipython",
    "version": 3
   },
   "file_extension": ".py",
   "mimetype": "text/x-python",
   "name": "python",
   "nbconvert_exporter": "python",
   "pygments_lexer": "ipython3",
   "version": "3.8.5"
  }
 },
 "nbformat": 4,
 "nbformat_minor": 4
}
